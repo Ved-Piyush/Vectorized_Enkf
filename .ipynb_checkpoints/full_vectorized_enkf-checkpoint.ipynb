{
 "cells": [
  {
   "cell_type": "code",
   "execution_count": 21,
   "id": "803341e1-7e25-4f39-92c5-abbd6ae6b484",
   "metadata": {},
   "outputs": [],
   "source": [
    "import tensorflow as tf\n",
    "import numpy as np\n",
    "import scipy\n",
    "from sklearn.datasets import load_diabetes\n",
    "from sklearn.metrics import mean_squared_error\n",
    "from scipy.stats import pearsonr\n",
    "import matplotlib.pyplot as plt"
   ]
  },
  {
   "cell_type": "code",
   "execution_count": 22,
   "id": "4535c045-eea0-4439-bad2-bd5d9849d5b8",
   "metadata": {},
   "outputs": [],
   "source": [
    "# load sample diabetes dataset\n",
    "diabetes = load_diabetes()"
   ]
  },
  {
   "cell_type": "code",
   "execution_count": 23,
   "id": "b4c21ab2-69a3-428f-94d5-0e143e2ff5c9",
   "metadata": {},
   "outputs": [],
   "source": [
    "# load features and target\n",
    "X, y = diabetes.data, diabetes.target.reshape(-1,1)"
   ]
  },
  {
   "cell_type": "code",
   "execution_count": 24,
   "id": "bd9f2546-3829-46c0-8f16-c3c68ecb1cf4",
   "metadata": {},
   "outputs": [
    {
     "data": {
      "image/png": "[encoded data removed]",
      "text/plain": [
       "<Figure size 640x480 with 1 Axes>"
      ]
     },
     "metadata": {},
     "output_type": "display_data"
    }
   ],
   "source": [
    "plt.hist(y)\n",
    "plt.show()"
   ]
  },
  {
   "cell_type": "code",
   "execution_count": 25,
   "id": "ca709586-16b9-4c4c-bb2c-984349e383a2",
   "metadata": {},
   "outputs": [],
   "source": [
    "# this function computes the number of layer weights and biases\n",
    "# for each layer of the network\n",
    "def compute_weights(input_size = X.shape[1], hidden_1 = 30, hidden_2 = 15, target_shape = 1): \n",
    "    # get first layer\n",
    "    fl_num_weights = (input_size)*hidden_1\n",
    "    fl_num_bias = hidden_1\n",
    "    # get second layer\n",
    "    sl_num_weights = (hidden_1)*hidden_2\n",
    "    sl_num_bias = hidden_2\n",
    "    # get pred layer\n",
    "    ll_num_weights = (hidden_2)*target_shape\n",
    "    ll_num_bias = target_shape\n",
    "    return fl_num_weights, fl_num_bias, sl_num_weights, sl_num_bias,  ll_num_weights, ll_num_bias"
   ]
  },
  {
   "cell_type": "code",
   "execution_count": 26,
   "id": "a7d74ff1-dcf0-46d5-a270-fa222ef1a196",
   "metadata": {},
   "outputs": [],
   "source": [
    "# parameters\n",
    "# input dim\n",
    "# ann parameters\n",
    "input_size = X.shape[1]\n",
    "hidden_1 = 30\n",
    "hidden_2 = 15\n",
    "target_shape = 1"
   ]
  },
  {
   "cell_type": "code",
   "execution_count": 27,
   "id": "6b99bfc0-29f7-4bd1-b0e3-07f4cb6e1944",
   "metadata": {},
   "outputs": [],
   "source": [
    "# compute each layers number of weights and biases\n",
    "fl_num_weights, fl_num_bias, sl_num_weights, sl_num_bias,  ll_num_weights, ll_num_bias = compute_weights(input_size = input_size, hidden_1 = hidden_1, hidden_2 = hidden_2, target_shape = target_shape)\n",
    "# total number of weights in the network\n",
    "total_weights = fl_num_weights + fl_num_bias + sl_num_weights + sl_num_bias + ll_num_weights + ll_num_bias"
   ]
  },
  {
   "cell_type": "code",
   "execution_count": 28,
   "id": "b9e360e6-133c-4bfa-9de9-60d1c9bc86d5",
   "metadata": {},
   "outputs": [],
   "source": [
    "# function for initial ensembles\n",
    "# parameters are initial variances\n",
    "# and how many ensembles wanted\n",
    "def gen_initial_ensemble(total_weights, var = 1, num_ens = 50): \n",
    "    mean_vec = np.zeros((total_weights,))\n",
    "    cov_vec = np.identity(total_weights)*var\n",
    "    mvn = scipy.stats.multivariate_normal(mean_vec,cov_vec)\n",
    "    return mvn.rvs(num_ens)"
   ]
  },
  {
   "cell_type": "code",
   "execution_count": 29,
   "id": "96e82c3d-23e5-47fe-92f4-6804a51a811e",
   "metadata": {},
   "outputs": [],
   "source": [
    "# this function subsets the respective layer weight and biases from the initial ensembles\n",
    "def weights_subset(initial_ens, fl_num_weights = fl_num_weights, fl_num_bias = fl_num_bias, sl_num_weights = sl_num_weights, \n",
    "                   sl_num_bias = sl_num_bias,  ll_num_weights = ll_num_weights, ll_num_bias = ll_num_bias): \n",
    "    fl_weights = initial_ens[:,:fl_num_weights]\n",
    "    counter = fl_num_weights\n",
    "    fl_bias = initial_ens[:,counter:(counter+fl_num_bias)]\n",
    "    counter = counter+fl_num_bias\n",
    "    sl_weights = initial_ens[:,counter:(counter+sl_num_weights)]\n",
    "    counter = counter+sl_num_weights\n",
    "    sl_bias = initial_ens[:,counter:(counter+sl_num_bias)]\n",
    "    counter = counter+sl_num_bias\n",
    "    ll_weights = initial_ens[:,counter:(counter+ll_num_weights)]\n",
    "    counter = counter+ll_num_weights\n",
    "    ll_bias = initial_ens[:,counter:(counter+ll_num_bias)]\n",
    "    return fl_weights, fl_bias, sl_weights, sl_bias, ll_weights, ll_bias"
   ]
  },
  {
   "cell_type": "code",
   "execution_count": 30,
   "id": "18b95236-4e59-4f25-8910-004f4f6f4c6f",
   "metadata": {},
   "outputs": [],
   "source": [
    "# this functions creates proper shapes from the subsetted weights\n",
    "def weights_reshape(fl_weights , fl_bias , sl_weights, sl_bias , ll_weights ,\n",
    "                    ll_bias , num_ens , input_size , hidden_1 , hidden_2 , \n",
    "                   target_shape ): \n",
    "    fl_weights = fl_weights.reshape(num_ens, input_size, hidden_1)\n",
    "    fl_bias = fl_bias.reshape(num_ens, 1, hidden_1)\n",
    "\n",
    "    sl_weights = sl_weights.reshape(num_ens, hidden_1, hidden_2)\n",
    "    sl_bias = sl_bias.reshape(num_ens, 1, hidden_2)\n",
    "\n",
    "    ll_weights = ll_weights.reshape(num_ens, hidden_2, 1)\n",
    "    ll_bias = ll_bias.reshape(num_ens, 1, target_shape)\n",
    "\n",
    "    return fl_weights, fl_bias, sl_weights, sl_bias, ll_weights, ll_bias"
   ]
  },
  {
   "cell_type": "code",
   "execution_count": 31,
   "id": "b3dca9c1-9b2f-49e7-9976-efa321f3b68b",
   "metadata": {},
   "outputs": [],
   "source": [
    "# forward ann operation\n",
    "def forward_op(X , fl_weights , fl_bias , sl_weights , sl_bias , ll_weights , ll_bias ):\n",
    "    fl_out = (X@fl_weights + fl_bias)\n",
    "    sl_out = (fl_out@sl_weights + sl_bias)\n",
    "    ll_out = (sl_out@ll_weights + ll_bias)\n",
    "    return fl_out, sl_out, ll_out"
   ]
  },
  {
   "cell_type": "code",
   "execution_count": 32,
   "id": "090d283f-376f-418a-ae3e-e30723160bd5",
   "metadata": {},
   "outputs": [],
   "source": [
    "def compute_C_u(initial_ens, ll_out ): \n",
    "    lhs = (initial_ens - initial_ens.mean(0, keepdims = True))\n",
    "    rhs = ll_out - ll_out.mean(1, keepdims = True)\n",
    "    rhs_T = np.transpose(rhs, (0,2,1))\n",
    "    lhs_rhs_T = np.einsum('ij,ilk -> ijk', lhs, rhs_T)\n",
    "    return rhs, lhs_rhs_T.mean(0)"
   ]
  },
  {
   "cell_type": "code",
   "execution_count": 33,
   "id": "fce131a2-6e85-42e3-bf95-71dd5191d507",
   "metadata": {},
   "outputs": [],
   "source": [
    "def compute_D_u(rhs): \n",
    "    rhs_T = np.transpose(rhs, (0,2,1))\n",
    "    rhs_rhs_T = np.einsum('ijk,ikl -> ijl', rhs, rhs_T)\n",
    "    return rhs_rhs_T.mean(0)"
   ]
  },
  {
   "cell_type": "code",
   "execution_count": 34,
   "id": "7cc86657-99c3-45b6-890f-58999eed84ad",
   "metadata": {},
   "outputs": [],
   "source": [
    "def compute_U_bar(initial_ens):\n",
    "    return initial_ens.mean(0, keepdims = True).T"
   ]
  },
  {
   "cell_type": "code",
   "execution_count": 35,
   "id": "d450099f-55a9-4b34-af45-716af12a712b",
   "metadata": {},
   "outputs": [],
   "source": [
    "def compute_G_bar(ll_out):\n",
    "    return ll_out.mean(0)"
   ]
  },
  {
   "cell_type": "code",
   "execution_count": 36,
   "id": "a7a093d8-7140-4018-8155-98c390ac6b9e",
   "metadata": {},
   "outputs": [],
   "source": [
    "def make_update(initial_ens ,\n",
    "                C_U , D_U , gamma_var , y_var ,\n",
    "                y , ll_out): \n",
    "    gamma = (np.identity(D_U.shape[0])*gamma_var)\n",
    "\n",
    "    epsilon_mu = np.zeros((y.shape[0],))\n",
    "    epsilon_cov = np.identity(y.shape[0])*y_var\n",
    "\n",
    "    epsilon_y = scipy.stats.multivariate_normal(epsilon_mu, epsilon_cov).rvs(1).reshape(-1,1)\n",
    "\n",
    "    center = C_U@np.linalg.inv(D_U + gamma)\n",
    "    # center = C_U@np.linalg.inv(D_U)\n",
    "    fudged_y = (y + epsilon_y)\n",
    "    # fudged_y = (y )\n",
    "    ext_right = -(ll_out - fudged_y)\n",
    "    center_ext_right = np.einsum('ij,kjl -> ki', center, ext_right)\n",
    "    initial_ens = initial_ens + center_ext_right\n",
    "    return initial_ens"
   ]
  },
  {
   "cell_type": "code",
   "execution_count": 37,
   "id": "53d28ea4-778c-4c02-83cc-c1012d5caef7",
   "metadata": {},
   "outputs": [],
   "source": [
    "# number of initial ensembles\n",
    "num_ens = 100"
   ]
  },
  {
   "cell_type": "code",
   "execution_count": 38,
   "id": "3665c024-8d77-460b-b0dc-ae7902e2a0e1",
   "metadata": {},
   "outputs": [],
   "source": [
    "gamma_var, y_var = 1e-3, 1e-2"
   ]
  },
  {
   "cell_type": "code",
   "execution_count": 39,
   "id": "f5fbff6b-547f-464d-b36a-f8d6ac639625",
   "metadata": {},
   "outputs": [],
   "source": [
    "# generate initial ensemble\n",
    "initial_ens = gen_initial_ensemble(total_weights, var = 1, num_ens = num_ens)"
   ]
  },
  {
   "cell_type": "code",
   "execution_count": 41,
   "id": "42cfc885-2d5f-49c9-b36f-32e02303dda1",
   "metadata": {},
   "outputs": [],
   "source": [
    "for i in range(0,1):\n",
    "    # get the layer weights and biases\n",
    "    fl_weights, fl_bias, sl_weights, sl_bias, ll_weights, ll_bias = weights_subset(initial_ens, fl_num_weights = fl_num_weights,\n",
    "                                                                                   fl_num_bias = fl_num_bias, sl_num_weights = sl_num_weights, \n",
    "                                                                                   sl_num_bias = sl_num_bias,  ll_num_weights = ll_num_weights,\n",
    "                                                                                   ll_num_bias = ll_num_bias)\n",
    "    # reshaped layer weights and biases\n",
    "    fl_weights, fl_bias, sl_weights, sl_bias, ll_weights, ll_bias = weights_reshape(fl_weights = fl_weights, fl_bias = fl_bias,\n",
    "                                                                                    sl_weights = sl_weights, sl_bias = sl_bias,\n",
    "                                                                                    ll_weights = ll_weights, ll_bias = ll_bias,\n",
    "                                                                                    num_ens = num_ens, input_size = input_size,\n",
    "                                                                                    hidden_1 = hidden_1, hidden_2 = hidden_2, \n",
    "                                                                                    target_shape = target_shape)\n",
    "    # layer wise output of forward operation\n",
    "    _, _, ll_out = forward_op(X = X, fl_weights = fl_weights, fl_bias = fl_bias, sl_weights = sl_weights, sl_bias = sl_bias,\n",
    "                              ll_weights = ll_weights, ll_bias = ll_bias)\n",
    "\n",
    "    # Compute C_U\n",
    "    rhs, C_U = compute_C_u(initial_ens, ll_out = ll_out)\n",
    "\n",
    "    # Compute D_U \n",
    "    D_U = compute_D_u(rhs)\n",
    "\n",
    "    # Compute U_bar \n",
    "    U_bar = compute_U_bar(initial_ens)\n",
    "\n",
    "    # Compute G_bar\n",
    "    G_bar = compute_G_bar(ll_out)\n",
    "\n",
    "    # Make yegenoglu update\n",
    "    initial_ens = make_update(initial_ens = initial_ens, C_U = C_U, D_U = D_U,\n",
    "                              gamma_var = gamma_var, y_var = y_var,\n",
    "                              y = y, ll_out= ll_out)\n",
    "\n",
    "    # compute metrics\n",
    "    pearson = pearsonr(y[:,0], G_bar[:,0]).statistic\n",
    "    rmse = np.sqrt(mean_squared_error(y, G_bar).round(3))\n",
    "\n",
    "    print\n",
    "    print(\"pearsonr = \" + str(pearson.round(3)))\n",
    "    print(\"rmse = \" + str(rmse))\n",
    "    plt.scatter(y, G_bar)\n",
    "    plt.show()"
   ]
  }
 ],
 "metadata": {
  "kernelspec": {
   "display_name": "first",
   "language": "python",
   "name": "myenv"
  },
  "language_info": {
   "codemirror_mode": {
    "name": "ipython",
    "version": 3
   },
   "file_extension": ".py",
   "mimetype": "text/x-python",
   "name": "python",
   "nbconvert_exporter": "python",
   "pygments_lexer": "ipython3",
   "version": "3.9.18"
  }
 },
 "nbformat": 4,
 "nbformat_minor": 5
}
